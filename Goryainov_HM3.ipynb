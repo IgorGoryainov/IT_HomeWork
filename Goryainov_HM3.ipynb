{
 "cells": [
  {
   "cell_type": "markdown",
   "metadata": {},
   "source": [
    "# Домашнее задание"
   ]
  },
  {
   "cell_type": "markdown",
   "metadata": {},
   "source": [
    "1. Запишите в переменную значение <b>целочисленного</b> типа и проверьте тип переменной.\n",
    "2. Запишите в переменную <b>действительное</b> число и проверьте тип переменной.\n",
    "3. Запишите в переменную <b>строку</b> и проверьте тип переменной."
   ]
  },
  {
   "cell_type": "markdown",
   "metadata": {},
   "source": [
    "Python будет считать комментарием все, что находится после \"#\" и до конца строки.\n",
    "\n",
    "Всё что указано в строке после # игнорируется компилятором. "
   ]
  },
  {
   "cell_type": "code",
   "execution_count": 1,
   "metadata": {},
   "outputs": [
    {
     "data": {
      "text/plain": [
       "int"
      ]
     },
     "execution_count": 1,
     "metadata": {},
     "output_type": "execute_result"
    }
   ],
   "source": [
    "# решение\n",
    "var1 = 1\n",
    "type(var1)"
   ]
  },
  {
   "cell_type": "code",
   "execution_count": 3,
   "metadata": {},
   "outputs": [
    {
     "data": {
      "text/plain": [
       "float"
      ]
     },
     "execution_count": 3,
     "metadata": {},
     "output_type": "execute_result"
    }
   ],
   "source": [
    "# решение\n",
    "var2 = 1.5\n",
    "type(var2)"
   ]
  },
  {
   "cell_type": "code",
   "execution_count": 4,
   "metadata": {},
   "outputs": [
    {
     "data": {
      "text/plain": [
       "str"
      ]
     },
     "execution_count": 4,
     "metadata": {},
     "output_type": "execute_result"
    }
   ],
   "source": [
    "# решение\n",
    "var3 = 'Hello, World!'\n",
    "type(var3)"
   ]
  },
  {
   "cell_type": "code",
   "execution_count": null,
   "metadata": {},
   "outputs": [],
   "source": [
    "# решение\n"
   ]
  },
  {
   "cell_type": "code",
   "execution_count": null,
   "metadata": {},
   "outputs": [],
   "source": [
    "# решение\n"
   ]
  },
  {
   "cell_type": "code",
   "execution_count": null,
   "metadata": {},
   "outputs": [],
   "source": [
    "# решение\n"
   ]
  },
  {
   "cell_type": "markdown",
   "metadata": {},
   "source": [
    "# Логические значения"
   ]
  },
  {
   "cell_type": "markdown",
   "metadata": {},
   "source": [
    "Логические значения True (истина) и False (ложь) представляет тип данных bool. У этого типа только два возможных значения и два соответствующих литерала: <b>True</b> и <b>False</b>."
   ]
  },
  {
   "cell_type": "code",
   "execution_count": 5,
   "metadata": {},
   "outputs": [
    {
     "name": "stdout",
     "output_type": "stream",
     "text": [
      "True\n"
     ]
    }
   ],
   "source": [
    "# пример\n",
    "logical_value = True\n",
    "print(logical_value)"
   ]
  },
  {
   "cell_type": "markdown",
   "metadata": {},
   "source": [
    "Определенные для объектов типа bool операторы(and, or и not) известны как логические операторы и имеют общеизвестные определения:\n",
    "\n",
    "- a and b даёт True, если оба операнда True, иначе False\n",
    "- a or b даёт True, если хотя бы один операндов True, иначе False\n",
    "- not a даёт True, если a имеет значение False, иначе False"
   ]
  },
  {
   "cell_type": "code",
   "execution_count": 6,
   "metadata": {
    "scrolled": true
   },
   "outputs": [
    {
     "data": {
      "text/plain": [
       "bool"
      ]
     },
     "execution_count": 6,
     "metadata": {},
     "output_type": "execute_result"
    }
   ],
   "source": [
    "# проверим тип литерала True\n",
    "type(True)"
   ]
  },
  {
   "cell_type": "code",
   "execution_count": 7,
   "metadata": {},
   "outputs": [
    {
     "name": "stdout",
     "output_type": "stream",
     "text": [
      "<class 'bool'>\n"
     ]
    }
   ],
   "source": [
    "# проверим тип литерала True\n",
    "print(type(True))"
   ]
  },
  {
   "cell_type": "code",
   "execution_count": 8,
   "metadata": {},
   "outputs": [
    {
     "name": "stdout",
     "output_type": "stream",
     "text": [
      "1 2 3\n",
      "Hello people :-)\n"
     ]
    }
   ],
   "source": [
    "# пример: метод print() может выводить сразу несколько переменных, если их указать через запятую, между выводимыми\n",
    "# значениями ставится пробел\n",
    "print(1, 2, 3)\n",
    "print('Hello', 'people :-)')"
   ]
  },
  {
   "cell_type": "code",
   "execution_count": 9,
   "metadata": {},
   "outputs": [
    {
     "name": "stdout",
     "output_type": "stream",
     "text": [
      "a = True\n",
      "b = True\n",
      "a and b = True\n",
      "a or b = True\n",
      "not a = False\n",
      "_________________\n",
      "a = True\n",
      "b = False\n",
      "a and b = False\n",
      "a or b = True\n",
      "not a = False\n",
      "_________________\n",
      "a = False\n",
      "b = False\n",
      "a and b = False\n",
      "a or b = False\n",
      "not a = True\n"
     ]
    }
   ],
   "source": [
    "# пример\n",
    "a = True\n",
    "b = True\n",
    "print('a =', a)\n",
    "print('b =', b)\n",
    "print('a and b =', a and b)\n",
    "print('a or b =', a or b)\n",
    "print('not a =', not a)\n",
    "\n",
    "\n",
    "print('_________________')\n",
    "\n",
    "a = True\n",
    "b = False\n",
    "print('a =', a)\n",
    "print('b =', b)\n",
    "print('a and b =', a and b)\n",
    "print('a or b =', a or b)\n",
    "print('not a =', not a)\n",
    "\n",
    "print('_________________')\n",
    "\n",
    "a = False\n",
    "b = False\n",
    "print('a =', a)\n",
    "print('b =', b)\n",
    "print('a and b =', a and b)\n",
    "print('a or b =', a or b)\n",
    "print('not a =', not a)"
   ]
  },
  {
   "cell_type": "markdown",
   "metadata": {},
   "source": [
    "### Больше, меньше, равно"
   ]
  },
  {
   "cell_type": "markdown",
   "metadata": {},
   "source": [
    "Результатом сравнения операндов типа int является тип bool"
   ]
  },
  {
   "cell_type": "code",
   "execution_count": 10,
   "metadata": {},
   "outputs": [
    {
     "name": "stdout",
     "output_type": "stream",
     "text": [
      "a==b это False\n",
      "a!=b это True\n",
      "a>b это False\n",
      "a>=b это False\n",
      "a<b это True\n",
      "a<=b это True\n"
     ]
    }
   ],
   "source": [
    "# пример\n",
    "a = 5\n",
    "b = 10\n",
    "print('a==b это', a==b) # == это проверка на равенство\n",
    "print('a!=b это', a!=b) # != проверка на не равенство иными словами не равно\n",
    "print('a>b это', a>b) # > - оператор больше\n",
    "print('a>=b это', a>=b) # >= - больше или равно\n",
    "print('a<b это', a<b) # < - оператор меньше\n",
    "print('a<=b это', a<=b) # <= - оператор меньше или равно"
   ]
  },
  {
   "cell_type": "markdown",
   "metadata": {},
   "source": [
    "4. Проверьте больше ли 2 в 14, чем 3 в 9. "
   ]
  },
  {
   "cell_type": "code",
   "execution_count": 11,
   "metadata": {},
   "outputs": [
    {
     "name": "stdout",
     "output_type": "stream",
     "text": [
      "False\n"
     ]
    }
   ],
   "source": [
    "# решение\n",
    "print(2**14 > 3**9)\n"
   ]
  },
  {
   "cell_type": "markdown",
   "metadata": {},
   "source": [
    "# Условные выражения и циклы"
   ]
  },
  {
   "cell_type": "markdown",
   "metadata": {},
   "source": [
    "Рассмотрим операторы языка Python, реализующие условные выражения (conditional), где некие другие операторы могут быть выполнены или не выполнены в зависимости от определённых условий, и циклы, где некие другие операторы могут быть выполнены многократно, опять же взависимости от определенных условий."
   ]
  },
  {
   "cell_type": "markdown",
   "metadata": {},
   "source": [
    "<b>Оператор</b> if. Часто для разных исходных данных требуются разные действия. (Допустим, если мы хотим реализовать функцию модуль, то в случае отрицательного числа, нужно вернуть число со знаком минус, иначе само число). Одним из способов выражения этих различий в языке Python является оператор if:"
   ]
  },
  {
   "cell_type": "code",
   "execution_count": null,
   "metadata": {},
   "outputs": [],
   "source": [
    "#if <логическое выражение>:\n",
    "#   <оператор>\n",
    "#   <оператор>\n",
    "#   <оператор>\n",
    "#   <оператор>"
   ]
  },
  {
   "cell_type": "markdown",
   "metadata": {},
   "source": [
    "Эта форма записи известна, как шаблон и используется для описания формата конструкций языка Python. В угловых скобках (<>)  приводят уже определенную конструкцию, означа, что в этом месте можно использовать любой её экземпляр.\n",
    "\n",
    "В данном случае <логическое выражение> представляет выражение, возвращающее результат логичекого типа, а <оператор> представляет выполнимый оператор(это могут быть самые разные операторы)\n",
    "\n",
    "Python выполняет операторы с отступом(tab), если и только если логическое выражение истинно. Набор операторов с отступом называется блоком. Первая строка без отступа отмечает конец блока."
   ]
  },
  {
   "cell_type": "code",
   "execution_count": null,
   "metadata": {},
   "outputs": [],
   "source": [
    "# пример: модуль числа\n",
    "x = -5 # можете задать любое число\n",
    "if x < 0: \n",
    "    x = -x # так как следующая строка уже без отступа, то блок заканчивается в конце данной строки. \n",
    "print(x) # выполнится в любом случае так как находится вне блока"
   ]
  },
  {
   "cell_type": "code",
   "execution_count": null,
   "metadata": {},
   "outputs": [],
   "source": [
    "# пример: расположение x1, x2 в порядке возрастания(x1<=x2)\n",
    "x1 = 5 \n",
    "x2 = 1\n",
    "if x1 > x2: # если порядок нарушен, то на нужно поменять значения x1  и x2, для этого\n",
    "    temp = x1 # сохраняем значение первой переменной в temp \n",
    "    x1 = x2 # записываем x2 в x1, так как ранее мы сохранили значение x1, то данное значение не будет потеряно\n",
    "    x2 = temp # записываем ранее сохранённое в переменную temp значение x1\n",
    "print('x1:', x1)\n",
    "print('x2:', x2) # получаем порядок, которые хотели"
   ]
  },
  {
   "cell_type": "markdown",
   "metadata": {},
   "source": [
    "<b>Директива </b> else. К оператору if  можно добавить директиву else, позволяющую выполнить один оператор (или блок операторов) в одном случае, а другой оператор (или блок операторов) - в другом случае, в зависимости от истинности или или ложности результата логического выражения, как в следующем шаблоне"
   ]
  },
  {
   "cell_type": "code",
   "execution_count": null,
   "metadata": {},
   "outputs": [],
   "source": [
    "#if <логическое выражение>:\n",
    "#   <оператор>\n",
    "#   <оператор>\n",
    "#   <оператор>\n",
    "#   <оператор>\n",
    "#else: блок операторов (или оператор) идующий за esle выполняется, если логическое выражение равно False т. е.  ложно\n",
    "#   <оператор>\n",
    "#   <оператор>\n",
    "#   <оператор>"
   ]
  },
  {
   "cell_type": "code",
   "execution_count": null,
   "metadata": {},
   "outputs": [],
   "source": [
    "# пример: нахождение максимума из двух чисел\n",
    "x = 10\n",
    "y = 20\n",
    "if  x > y:  #сравниваем числа х и у, если х больше у, то х максимум иначе(else) у - максимум\n",
    "    maximum = x\n",
    "else:\n",
    "    maximum = y\n",
    "print('max:', maximum) # выводим на экран максимальное значение"
   ]
  },
  {
   "cell_type": "markdown",
   "metadata": {},
   "source": [
    "5. Реализуйте вывод минимум для двух произвольных числе x, y. Поменяйте х и у, проверьте правильно ли работает программа при различных значениях."
   ]
  },
  {
   "cell_type": "code",
   "execution_count": 16,
   "metadata": {},
   "outputs": [
    {
     "data": {
      "text/plain": [
       "17"
      ]
     },
     "execution_count": 16,
     "metadata": {},
     "output_type": "execute_result"
    }
   ],
   "source": [
    "# решение\n",
    "x = 111\n",
    "y = 777\n",
    "def get_min(x, y):\n",
    "    if x > y:\n",
    "        return y\n",
    "    else:\n",
    "        return x\n",
    "get_min(x, y)\n",
    "get_min(165, 17)"
   ]
  },
  {
   "cell_type": "markdown",
   "metadata": {},
   "source": [
    "6.(необязательное задание) Реализуйте выводи максимума для трёх произвольных чисел. x, y, z."
   ]
  },
  {
   "cell_type": "code",
   "execution_count": null,
   "metadata": {},
   "outputs": [],
   "source": [
    "# пример: можно вкладывать условные операторы\n",
    "x1 = 5\n",
    "x2 = -1\n",
    "if x1 > 0:\n",
    "    if x2 < 0:\n",
    "        print(\"x1>0 and x2<0\")"
   ]
  },
  {
   "cell_type": "code",
   "execution_count": null,
   "metadata": {},
   "outputs": [],
   "source": [
    "# пример: код выше можно реализовать через оператор and"
   ]
  },
  {
   "cell_type": "code",
   "execution_count": null,
   "metadata": {},
   "outputs": [],
   "source": [
    "x1 = 5 \n",
    "x2 = -1\n",
    "if x1 > 0 and x2 < 0:\n",
    "    print(\"x1>0 and x2<0\")"
   ]
  },
  {
   "cell_type": "code",
   "execution_count": 20,
   "metadata": {},
   "outputs": [
    {
     "data": {
      "text/plain": [
       "3"
      ]
     },
     "execution_count": 20,
     "metadata": {},
     "output_type": "execute_result"
    }
   ],
   "source": [
    "# решение\n",
    "x1 = 1\n",
    "x2 = 2\n",
    "x3 = 3\n",
    "def get_max(x1, x2, x3):\n",
    "    if x1>x2 and x1>x3:\n",
    "        return x1\n",
    "    elif x2 > x1 and x2 > x3:\n",
    "        return x2\n",
    "    else:\n",
    "        return x3\n",
    "    \n",
    "get_max(x1, x2, x3)"
   ]
  },
  {
   "cell_type": "markdown",
   "metadata": {},
   "source": [
    "# Списки"
   ]
  },
  {
   "cell_type": "markdown",
   "metadata": {},
   "source": [
    "## Списки / массивы "
   ]
  },
  {
   "cell_type": "markdown",
   "metadata": {},
   "source": [
    "В этой части рассмотрим фундаментальные свойства массива в языке Python.\n",
    "\n",
    "Структура данных - способ организации данных, необходимых для их обработки компьютерной программой.\n",
    "\n",
    "Одномерный массив - структура данных, хранящая последовательность ссылок на объекты. Хранимые в массивах объекты являются его элементами. Для обращения к элементам массива их нумеруют, а затем индексируют. Если в последовательности $n$ элементов, то их считают пронумерованными от $0$ до $n-1$. Любой из них можно однозначно идентифицировать по номеру(индексу $i$) в этом диапазоне.\n",
    "\n",
    "Двумерный массив - массив ссылок на одномерные массивы. Принимая во внимание, что элементы одномерного массива индексируются одиночным целым числом, элементы двумерного массива индексируются двумя целыми числами: первое - определение ряда, второе - определение столбца.\n",
    "\n",
    "Зачастую, когда объем данных велик их помещают в один или несколько массивов, а затем, используя индексацию, обращаются к их индивидуальным элементам и обрабатывают. Допустим, если имеется 10000 записей курса акций и мы хотим найти самый высокий курс, то хранение в массиве будет более удобным, чем создание 10000 новых переменных."
   ]
  },
  {
   "cell_type": "markdown",
   "metadata": {},
   "source": [
    "<b>Массивы(Списки)</b> в Python. Самый простой способ создания массива в языке Python - поместить разделяемый список литералов в квадратные скобки"
   ]
  },
  {
   "cell_type": "code",
   "execution_count": null,
   "metadata": {},
   "outputs": [],
   "source": [
    "# пример\n",
    "names = ['Anna', 'Olga', 'Petr', 'Vasya'] # создаёт массив(список) из четырёх строк \n",
    "                                          #и сохраняет ссылку на него в переменную names"
   ]
  },
  {
   "cell_type": "code",
   "execution_count": null,
   "metadata": {},
   "outputs": [],
   "source": [
    "# пример\n",
    "x = [0.3, 0.6, 0.1] \n",
    "y = [0.15, 0.2, 0.45]\n",
    "# создаёт два массива состоящих из трёх действительных чисел"
   ]
  },
  {
   "cell_type": "markdown",
   "metadata": {},
   "source": [
    "Каждый массив - это объект, содержащий данные (точнее ссылки на объекты), структурированные для более эффективного доступа.\n",
    "\n",
    "После создания массива любой его объект можно использовать в программе везде, где использовалось бы имя переменной. Для этого указывают имя массива? сопровождаемое целочисленным индексом в квадратных скобках. В приведенных примерах элемент $names[1]$ ссылается на значение 'Olga', x[0] = 0.3, а y[2]=0.45.\n",
    "\n",
    "Обратите внимание, что $x$ - это ссылка на весь массив, а x[i] - ссылка на i-ый элемент массива(списка)."
   ]
  },
  {
   "cell_type": "code",
   "execution_count": null,
   "metadata": {},
   "outputs": [],
   "source": [
    "# пример\n",
    "names[1] # действительно Ольга"
   ]
  },
  {
   "cell_type": "code",
   "execution_count": null,
   "metadata": {},
   "outputs": [],
   "source": [
    "# пример\n",
    "x[0] # = 0.3?"
   ]
  },
  {
   "cell_type": "code",
   "execution_count": null,
   "metadata": {},
   "outputs": [],
   "source": [
    "# пример\n",
    "y[2] # = 0.45?"
   ]
  },
  {
   "cell_type": "markdown",
   "metadata": {},
   "source": [
    "Очевидное преимущество использование массив - возможность избежать индивидуального обращения к каждой переменной. Использование индекса массива - практически то же, что и добавление индекса к имени переменной. Например, если нужно обработать 8 значений float, то к каждому из них можно индивидуально обратиться по именам переменной: $a0, a1, ..., a7$. Если в случае 8 значений это ещё реально сделать, то обозначение множества индивидуальных переменных таким образом было бы слишком громоздким, в случае миллионов значений."
   ]
  },
  {
   "cell_type": "code",
   "execution_count": null,
   "metadata": {},
   "outputs": [],
   "source": [
    "# пример\n",
    "a0 = 1\n",
    "a1 = 2\n",
    "a2 = 3\n",
    "a3 = 4\n",
    "a4 = 5\n",
    "a5 = 6\n",
    "a6 = 7\n",
    "a7 = 8"
   ]
  },
  {
   "cell_type": "code",
   "execution_count": null,
   "metadata": {},
   "outputs": [],
   "source": [
    "# пример\n",
    "a = [1, 2, 3, 4, 5, 6, 7, 8]"
   ]
  },
  {
   "cell_type": "code",
   "execution_count": null,
   "metadata": {},
   "outputs": [],
   "source": [
    "# пример получения 1 элемента\n",
    "print(a0)\n",
    "print(a[0]) # записи примерно похожи по виду, но в одном случае введено 8 переменных, в другом одна и обращение происходит по индексу"
   ]
  },
  {
   "cell_type": "markdown",
   "metadata": {},
   "source": [
    "7. Создайте список состоящий из строк \"Красный\", \"Черный\", \"Желтый\", \"Коричневый\", \"Оранжевый\" и назовите его colors."
   ]
  },
  {
   "cell_type": "code",
   "execution_count": 21,
   "metadata": {},
   "outputs": [],
   "source": [
    "# решение\n",
    "colors = [ \"Красный\", \"Черный\", \"Желтый\", \"Коричневый\", \"Оранжевый\"]"
   ]
  },
  {
   "cell_type": "markdown",
   "metadata": {},
   "source": [
    "8. Сохраните в перемнную yellow_color третий элемент списка."
   ]
  },
  {
   "cell_type": "code",
   "execution_count": 22,
   "metadata": {},
   "outputs": [],
   "source": [
    "# решение\n",
    "yellow_color = colors[2]"
   ]
  },
  {
   "cell_type": "markdown",
   "metadata": {},
   "source": [
    "9. Используя метод print() выведите на экран значение переменной yellow_color"
   ]
  },
  {
   "cell_type": "code",
   "execution_count": 24,
   "metadata": {},
   "outputs": [
    {
     "name": "stdout",
     "output_type": "stream",
     "text": [
      "Желтый\n"
     ]
    }
   ],
   "source": [
    "# решение\n",
    "print(yellow_color)"
   ]
  },
  {
   "cell_type": "markdown",
   "metadata": {},
   "source": [
    "10. Используя метод replace, замените в переменной yellow_color символы е на о. <br>\n",
    "Метод replace применяется след. образом \"некоторая строка или переменная\".replace('что хотите поменять', 'на что хотите поменять')"
   ]
  },
  {
   "cell_type": "code",
   "execution_count": 25,
   "metadata": {
    "scrolled": true
   },
   "outputs": [
    {
     "data": {
      "text/plain": [
       "'My name is Petr'"
      ]
     },
     "execution_count": 25,
     "metadata": {},
     "output_type": "execute_result"
    }
   ],
   "source": [
    "# пример\n",
    "\"My name is Vasya\".replace(\"Vasya\", \"Petr\") "
   ]
  },
  {
   "cell_type": "code",
   "execution_count": 26,
   "metadata": {},
   "outputs": [
    {
     "data": {
      "text/plain": [
       "'aaaEE'"
      ]
     },
     "execution_count": 26,
     "metadata": {},
     "output_type": "execute_result"
    }
   ],
   "source": [
    "# пример\n",
    "# можно применять replace несколько раз подряд\n",
    "\"AaaEe\".replace(\"A\", \"a\").replace(\"e\", \"E\")"
   ]
  },
  {
   "cell_type": "code",
   "execution_count": 29,
   "metadata": {},
   "outputs": [
    {
     "data": {
      "text/plain": [
       "'Жолтый'"
      ]
     },
     "execution_count": 29,
     "metadata": {},
     "output_type": "execute_result"
    }
   ],
   "source": [
    "# решение\n",
    "yellow_color.replace('е', 'о')"
   ]
  },
  {
   "cell_type": "code",
   "execution_count": null,
   "metadata": {},
   "outputs": [],
   "source": []
  }
 ],
 "metadata": {
  "kernelspec": {
   "display_name": "Python 3",
   "language": "python",
   "name": "python3"
  },
  "language_info": {
   "codemirror_mode": {
    "name": "ipython",
    "version": 3
   },
   "file_extension": ".py",
   "mimetype": "text/x-python",
   "name": "python",
   "nbconvert_exporter": "python",
   "pygments_lexer": "ipython3",
   "version": "3.7.4"
  }
 },
 "nbformat": 4,
 "nbformat_minor": 5
}
