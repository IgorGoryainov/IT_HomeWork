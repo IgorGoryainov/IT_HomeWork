{
 "cells": [
  {
   "cell_type": "markdown",
   "metadata": {},
   "source": [
    "# План занятия\n",
    "- циклы (while, for)\n",
    "- массивы (списки)\n",
    "- функции\n",
    "- реализация функции скалярного произведения\n",
    "- реализация метода обучения персептрона\n",
    "- тест на 5 минут"
   ]
  },
  {
   "cell_type": "code",
   "execution_count": null,
   "metadata": {},
   "outputs": [],
   "source": [
    "a = 10\n",
    "if a > 5:\n",
    "    print('> 5')\n",
    "else:\n",
    "    print('<= 5')"
   ]
  },
  {
   "cell_type": "markdown",
   "metadata": {},
   "source": [
    "# Циклы\n",
    "- while\n",
    "- for"
   ]
  },
  {
   "cell_type": "markdown",
   "metadata": {},
   "source": [
    "## While\n",
    "Вычисления нередко приходится повторять. Предназначенная для этого базовая конструкция Python имеет следующий формат:\n",
    "\n",
    "<code>while <логическое выражение>:\n",
    "    <оператор 1>\n",
    "    <оператор 2>\n",
    "    <оператор 3>\n",
    "        ...</code>\n",
    "        \n",
    "Оператор while имеет ту же форму, что и оператор if, но отличается назначением. Он работает следующим образом: если результат логического выражения False, то не делает ничего, если результат True - выполнить блок операторов ниже, а затем снова проверить выражение и выполнить ещё раз последовательность операторов, если выражение возвращает True, и продолжать до тех пор пока логическое выражение остаётся истинным. Логическое выражение - условие продолжения цикла."
   ]
  },
  {
   "cell_type": "code",
   "execution_count": 1,
   "metadata": {
    "scrolled": true
   },
   "outputs": [
    {
     "name": "stdout",
     "output_type": "stream",
     "text": [
      "i = 0\n",
      "i = 1\n",
      "i = 2\n",
      "i = 3\n",
      "i = 4\n",
      "i = 5\n"
     ]
    }
   ],
   "source": [
    "# пример\n",
    "i = 0 \n",
    "while i <= 5:\n",
    "    print('i =',i)\n",
    "    i = i + 1"
   ]
  },
  {
   "cell_type": "markdown",
   "metadata": {},
   "source": [
    "Оператор while последовательности одинаковых операторов if: <br>\n",
    "<code>if <логическое выражение>:\n",
    "    <оператор 1>\n",
    "    <оператор 2>\n",
    "    <оператор 3>\n",
    "        ...</code> <br>\n",
    "<code>if <логическое выражение>:\n",
    "    <оператор 1>\n",
    "    <оператор 2>\n",
    "    <оператор 3>\n",
    "        ...</code> <br>\n",
    "<code>if <логическое выражение>:\n",
    "    <оператор 1>\n",
    "    <оператор 2>\n",
    "    <оператор 3>\n",
    "        ...</code><br>\n",
    "<code>if <логическое выражение>:\n",
    "    <оператор 1>\n",
    "    <оператор 2>\n",
    "    <оператор 3>\n",
    "        ...</code>"
   ]
  },
  {
   "cell_type": "code",
   "execution_count": 3,
   "metadata": {
    "scrolled": true
   },
   "outputs": [
    {
     "name": "stdout",
     "output_type": "stream",
     "text": [
      "i = 0\n",
      "i = 1\n",
      "i = 2\n"
     ]
    }
   ],
   "source": [
    "i = 0 \n",
    "if i <= 5:\n",
    "    print('i =',i)\n",
    "    i = i + 1\n",
    "if i <= 5:\n",
    "    print('i =',i)\n",
    "    i = i + 1\n",
    "if i <= 5:\n",
    "    print('i =',i)\n",
    "    i = i + 1\n",
    "# if i <= 5:\n",
    "#     print('i =',i)\n",
    "#     i = i + 1\n",
    "# if i <= 5:\n",
    "#     print('i =',i)\n",
    "#     i = i + 1\n",
    "# if i <= 5:\n",
    "#     print('i =',i)\n",
    "#     i = i + 1\n",
    "# if i <= 5:\n",
    "#     print('i =',i)\n",
    "#     i = i + 1\n",
    "# if i <= 5:\n",
    "#     print('i =',i)\n",
    "#     i = i + 1"
   ]
  },
  {
   "cell_type": "markdown",
   "metadata": {},
   "source": [
    "Чтобы условие продолжения работы цикла стало в конечном счёте ложным (=False) и цикл завершился, в теле цикла должно изменяться значение одно или нескольких переменных."
   ]
  },
  {
   "cell_type": "code",
   "execution_count": 10,
   "metadata": {},
   "outputs": [
    {
     "name": "stdout",
     "output_type": "stream",
     "text": [
      "Privet\n",
      "Privet\n",
      "Privet\n",
      "Privet\n",
      "Privet\n",
      "Privet\n",
      "Privet\n",
      "Privet\n",
      "Privet\n",
      "Privet\n"
     ]
    }
   ],
   "source": [
    "# пример: вывести 10 раз Привет\n",
    "i = -5\n",
    "while i <= 4:\n",
    "    i = i + 1\n",
    "    print('Privet')"
   ]
  },
  {
   "cell_type": "code",
   "execution_count": 14,
   "metadata": {},
   "outputs": [
    {
     "name": "stdout",
     "output_type": "stream",
     "text": [
      "32\n"
     ]
    }
   ],
   "source": [
    "# пример: вычисление степени числа\n",
    "n = 2 # число\n",
    "degree = 5 # степень\n",
    "i = 0\n",
    "p = 1\n",
    "while i < degree:\n",
    "    p = p * n\n",
    "    i = i+ 1\n",
    "print(p)"
   ]
  },
  {
   "cell_type": "code",
   "execution_count": 15,
   "metadata": {},
   "outputs": [
    {
     "data": {
      "text/plain": [
       "1"
      ]
     },
     "execution_count": 15,
     "metadata": {},
     "output_type": "execute_result"
    }
   ],
   "source": [
    "5 % 2"
   ]
  },
  {
   "cell_type": "markdown",
   "metadata": {},
   "source": [
    "Сокращённая запись присвоения:\n",
    "<code>\n",
    "    i = i + 1\n",
    "</code>\n",
    "Можно записать\n",
    "<code>\n",
    "    i += 1\n",
    "</code>"
   ]
  },
  {
   "cell_type": "code",
   "execution_count": 23,
   "metadata": {},
   "outputs": [
    {
     "data": {
      "text/plain": [
       "2"
      ]
     },
     "execution_count": 23,
     "metadata": {},
     "output_type": "execute_result"
    }
   ],
   "source": [
    "i = 2\n",
    "i %= 10\n",
    "i"
   ]
  },
  {
   "cell_type": "markdown",
   "metadata": {},
   "source": [
    "Использую оператор while можно создавать практически любые циклы. Мы рассмотрим с вами альтернатиную конструкцию - оператор for, он добавит больше гибкости. Оператор for часто позволяет написать более компактный и читаемый код программы, чем при использовании оператора while."
   ]
  },
  {
   "cell_type": "markdown",
   "metadata": {},
   "source": [
    "## For"
   ]
  },
  {
   "cell_type": "markdown",
   "metadata": {},
   "source": [
    "Очень часто в программировании для решения задачи используют конструкцию цикл со счётчиком. \n",
    "<code>\n",
    "    <переменная> = <старт (начальное значение переменной)>\n",
    "    while <переменная> < <стоп>:\n",
    "        <блок операторов>\n",
    "        <переменная> += 1 # тоже самое, что и <переменная> = <переменная> + 1"
   ]
  },
  {
   "cell_type": "markdown",
   "metadata": {},
   "source": [
    "Оператор for обеспечивает более компактный способ реализации цикла со счетчиком. В языке Python оператор for имеет несколько форматов. Пока рассмотрим следующий шаблон:"
   ]
  },
  {
   "cell_type": "markdown",
   "metadata": {},
   "source": [
    "<code>for <переменная> in range(<старт>, <стоп>):\n",
    "    <блок операторов>"
   ]
  },
  {
   "cell_type": "markdown",
   "metadata": {},
   "source": [
    "<code>Аргументы <старт> и <стоп> встроенной функции range() должны быть целыми числами. Когда оператор дан в этой форме Python многократно выполняет блок операторов с отступом. На первой итерации цикла <переменная> имеет значение <старт>, на второй <старт>  + 1 и так далее. На последний итерации цикла <переменная> имеет значение <стоп> - 1. Если говорить коротко, то оператор for многократно выполняет <блок операторов> с отступом, причём переменная меняется от <старт> до <стоп> - 1 включительно."
   ]
  },
  {
   "cell_type": "code",
   "execution_count": 24,
   "metadata": {},
   "outputs": [
    {
     "name": "stdout",
     "output_type": "stream",
     "text": [
      "i = 0\n",
      "i = 1\n",
      "i = 2\n",
      "i = 3\n",
      "i = 4\n"
     ]
    }
   ],
   "source": [
    "i = 0 # <переменная> = <старт> переменная - i, старт - 0\n",
    "while i < 5: # while <переменная> < <стоп> переменная - i, стоп - 5\n",
    "    # то есть пока i меньше пяти операторы с отступом следующие за while будут выполняться\n",
    "    print ('i =', i) # вывод на экран\n",
    "    i = i + 1 # увеличивает значение i на 1 на каждом шаге"
   ]
  },
  {
   "cell_type": "markdown",
   "metadata": {},
   "source": [
    "<code>for <переменная> in range(<старт>, <стоп>):\n",
    "    <блок операторов>"
   ]
  },
  {
   "cell_type": "code",
   "execution_count": 28,
   "metadata": {},
   "outputs": [
    {
     "name": "stdout",
     "output_type": "stream",
     "text": [
      "i = 0\n",
      "i = 1\n",
      "i = 2\n",
      "i = 3\n",
      "i = 4\n"
     ]
    }
   ],
   "source": [
    "# пример: переписать данный цикл использую for\n",
    "for i in range(0, 5): #0, 1, 2, 3, 4\n",
    "    print ('i =', i)\n",
    "    i = i + 1"
   ]
  },
  {
   "cell_type": "code",
   "execution_count": null,
   "metadata": {},
   "outputs": [],
   "source": []
  },
  {
   "cell_type": "code",
   "execution_count": 33,
   "metadata": {},
   "outputs": [],
   "source": [
    "# пример: вычислить n!\n",
    "n = 7\n",
    "fact = 1\n",
    "for i in range(1, n + 1):\n",
    "    fact *= i # fact = fact * i"
   ]
  },
  {
   "cell_type": "code",
   "execution_count": 34,
   "metadata": {},
   "outputs": [
    {
     "name": "stdout",
     "output_type": "stream",
     "text": [
      "5040\n"
     ]
    }
   ],
   "source": [
    "print(fact)"
   ]
  },
  {
   "cell_type": "code",
   "execution_count": 36,
   "metadata": {},
   "outputs": [
    {
     "data": {
      "text/plain": [
       "3"
      ]
     },
     "execution_count": 36,
     "metadata": {},
     "output_type": "execute_result"
    }
   ],
   "source": [
    "sum([1,2])"
   ]
  },
  {
   "cell_type": "code",
   "execution_count": 37,
   "metadata": {},
   "outputs": [
    {
     "name": "stdout",
     "output_type": "stream",
     "text": [
      "56\n"
     ]
    }
   ],
   "source": [
    "# пример: вычислить сумму от 1 до n\n",
    "n = 10\n",
    "summ = 1\n",
    "for i in range(1, n + 1):\n",
    "    sum += i # fact = fact * i\n",
    "print(summ)"
   ]
  },
  {
   "cell_type": "code",
   "execution_count": 1,
   "metadata": {},
   "outputs": [
    {
     "data": {
      "text/plain": [
       "<function print>"
      ]
     },
     "execution_count": 1,
     "metadata": {},
     "output_type": "execute_result"
    }
   ],
   "source": [
    "print"
   ]
  },
  {
   "cell_type": "code",
   "execution_count": null,
   "metadata": {},
   "outputs": [],
   "source": [
    "# Как обратиться к командной строке из ноутбука?"
   ]
  },
  {
   "cell_type": "code",
   "execution_count": 4,
   "metadata": {},
   "outputs": [
    {
     "name": "stdout",
     "output_type": "stream",
     "text": [
      "total 3712\r\n",
      "  56 -rw-r--r--  1 artemnikolaev  staff    25K Sep 28 12:05 BasicHM3.ipynb\r\n",
      "  56 -rw-r--r--  1 artemnikolaev  staff    27K Sep 28 12:03 HM3.ipynb\r\n",
      " 192 -rw-------@ 1 artemnikolaev  staff    93K Sep 27 12:21 LectureN3.ipynb\r\n",
      "3408 -rw-r--r--  1 artemnikolaev  staff   1.7M Oct  2 12:27 LectureN4.ipynb\r\n",
      "   0 drwxr-xr-x  4 artemnikolaev  staff   128B Oct  2 11:59 \u001b[34mML\u001b[m\u001b[m\r\n"
     ]
    }
   ],
   "source": [
    "!ls -l -sh"
   ]
  },
  {
   "cell_type": "code",
   "execution_count": 3,
   "metadata": {},
   "outputs": [
    {
     "name": "stdout",
     "output_type": "stream",
     "text": [
      "\u001b[33mWARNING: Retrying (Retry(total=4, connect=None, read=None, redirect=None, status=None)) after connection broken by 'NewConnectionError('<pip._vendor.urllib3.connection.HTTPSConnection object at 0x7fd7b93ddc40>: Failed to establish a new connection: [Errno 8] nodename nor servname provided, or not known')': /simple/sklearn/\u001b[0m\n",
      "\u001b[33mWARNING: Retrying (Retry(total=3, connect=None, read=None, redirect=None, status=None)) after connection broken by 'NewConnectionError('<pip._vendor.urllib3.connection.HTTPSConnection object at 0x7fd7b93dde20>: Failed to establish a new connection: [Errno 8] nodename nor servname provided, or not known')': /simple/sklearn/\u001b[0m\n",
      "\u001b[33mWARNING: Retrying (Retry(total=2, connect=None, read=None, redirect=None, status=None)) after connection broken by 'NewConnectionError('<pip._vendor.urllib3.connection.HTTPSConnection object at 0x7fd7b93ddfd0>: Failed to establish a new connection: [Errno 8] nodename nor servname provided, or not known')': /simple/sklearn/\u001b[0m\n",
      "\u001b[33mWARNING: Retrying (Retry(total=1, connect=None, read=None, redirect=None, status=None)) after connection broken by 'NewConnectionError('<pip._vendor.urllib3.connection.HTTPSConnection object at 0x7fd7b94021c0>: Failed to establish a new connection: [Errno 8] nodename nor servname provided, or not known')': /simple/sklearn/\u001b[0m\n",
      "\u001b[33mWARNING: Retrying (Retry(total=0, connect=None, read=None, redirect=None, status=None)) after connection broken by 'NewConnectionError('<pip._vendor.urllib3.connection.HTTPSConnection object at 0x7fd7b9402370>: Failed to establish a new connection: [Errno 8] nodename nor servname provided, or not known')': /simple/sklearn/\u001b[0m\n",
      "\u001b[31mERROR: Could not find a version that satisfies the requirement sklearn (from versions: none)\u001b[0m\n",
      "\u001b[31mERROR: No matching distribution found for sklearn\u001b[0m\n"
     ]
    }
   ],
   "source": [
    "!pip install sklearn"
   ]
  },
  {
   "cell_type": "markdown",
   "metadata": {},
   "source": [
    "# Вложенный циклы"
   ]
  },
  {
   "cell_type": "code",
   "execution_count": 5,
   "metadata": {
    "scrolled": true
   },
   "outputs": [
    {
     "name": "stdout",
     "output_type": "stream",
     "text": [
      "i= 0 j= 0\n",
      "i= 0 j= 1\n",
      "i= 0 j= 2\n",
      "i= 1 j= 0\n",
      "i= 1 j= 1\n",
      "i= 1 j= 2\n",
      "i= 2 j= 0\n",
      "i= 2 j= 1\n",
      "i= 2 j= 2\n"
     ]
    }
   ],
   "source": [
    "# пример\n",
    "for i in range(0, 3): # range(0, 3) = range(3) если в range передеать 1 параметр,\n",
    "                        # то начальное значение(старт) будет равно нулю\n",
    "    for j in range(0, 3):\n",
    "        print('i=',i,'j=',j)"
   ]
  },
  {
   "cell_type": "code",
   "execution_count": 6,
   "metadata": {},
   "outputs": [],
   "source": [
    "from sys import stdout as std"
   ]
  },
  {
   "cell_type": "code",
   "execution_count": 11,
   "metadata": {},
   "outputs": [
    {
     "name": "stdout",
     "output_type": "stream",
     "text": [
      "12\n",
      "2"
     ]
    }
   ],
   "source": [
    "std.write('1')\n",
    "std.write('2')\n",
    "std.write('\\n')\n",
    "std.write('2')"
   ]
  },
  {
   "cell_type": "code",
   "execution_count": 12,
   "metadata": {
    "scrolled": true
   },
   "outputs": [
    {
     "name": "stdout",
     "output_type": "stream",
     "text": [
      "********************\n",
      "    *              *\n",
      "    *              *\n",
      "    *              *\n",
      "    *              *\n",
      "    *              *\n",
      "    *              *\n",
      "    *              *\n",
      "    *              *\n",
      "    *              *\n",
      "    *              *\n",
      "    *              *\n",
      "    *              *\n",
      "    *              *\n",
      "    *              *\n",
      "    *              *\n",
      "********************\n",
      "    *              *\n",
      "    *              *\n",
      "    *              *\n"
     ]
    }
   ],
   "source": [
    "# пример\n",
    "for i in range(20):\n",
    "    for j in range(20):\n",
    "        if (i == 0) or (j == 4) or (i == 16) or (j == 19):\n",
    "            std.write('*')\n",
    "        else:\n",
    "            std.write(' ')\n",
    "    std.write('\\n')"
   ]
  },
  {
   "cell_type": "markdown",
   "metadata": {},
   "source": [
    "Наш следующий пример, демонстрирует ситуацию(обычную), когда компьютеры используются для моделирования того что могло бы произойти в реальном мире, чтобы принимать более обоснованные решения.\n",
    "\n",
    "Следующий пример относится к классу задач известных как задача о разорении игрока. Предположим, что игрок последовательно делает неограниченную серию ставок, начиная с некоторой заданной суммы. В конечно счёте игрок всегда проигрывает, но если установить некие пределы для игры, то возникают различные вопросы. Допустим, игрок решает уйти после получения определённого выигрыша. Какова вероятность того, что он выиграет? Сколько ставок может понадобиться чтобы выиграть или проиграть? Какова максимальная сумма, которую игрок будет иметь в течении игры."
   ]
  },
  {
   "cell_type": "code",
   "execution_count": 13,
   "metadata": {},
   "outputs": [],
   "source": [
    "import random"
   ]
  },
  {
   "cell_type": "code",
   "execution_count": 57,
   "metadata": {},
   "outputs": [
    {
     "data": {
      "text/plain": [
       "1"
      ]
     },
     "execution_count": 57,
     "metadata": {},
     "output_type": "execute_result"
    }
   ],
   "source": [
    "random.randrange(0, 3) # возвращает случайное целое число из диапазона range(0, 3)\n",
    "#  т. е. это может быть 0, 1, 2"
   ]
  },
  {
   "cell_type": "code",
   "execution_count": 90,
   "metadata": {},
   "outputs": [],
   "source": [
    "from tqdm.auto import tqdm"
   ]
  },
  {
   "cell_type": "code",
   "execution_count": 102,
   "metadata": {},
   "outputs": [
    {
     "data": {
      "application/vnd.jupyter.widget-view+json": {
       "model_id": "ee77f557c7004f5f8dc38a3bfe5bf25a",
       "version_major": 2,
       "version_minor": 0
      },
      "text/plain": [
       "  0%|          | 0/10000 [00:00<?, ?it/s]"
      ]
     },
     "metadata": {},
     "output_type": "display_data"
    },
    {
     "ename": "KeyboardInterrupt",
     "evalue": "",
     "output_type": "error",
     "traceback": [
      "\u001b[0;31m---------------------------------------------------------------------------\u001b[0m",
      "\u001b[0;31mKeyboardInterrupt\u001b[0m                         Traceback (most recent call last)",
      "\u001b[0;32m<ipython-input-102-5e2d7c7a3534>\u001b[0m in \u001b[0;36m<module>\u001b[0;34m\u001b[0m\n\u001b[1;32m      6\u001b[0m \u001b[0;34m\u001b[0m\u001b[0m\n\u001b[1;32m      7\u001b[0m     \u001b[0;32mwhile\u001b[0m \u001b[0mmoney\u001b[0m \u001b[0;34m<\u001b[0m \u001b[0mgoal\u001b[0m \u001b[0;32mand\u001b[0m \u001b[0mmoney\u001b[0m \u001b[0;34m>\u001b[0m\u001b[0;36m0\u001b[0m\u001b[0;34m:\u001b[0m\u001b[0;34m\u001b[0m\u001b[0;34m\u001b[0m\u001b[0m\n\u001b[0;32m----> 8\u001b[0;31m         \u001b[0mbet\u001b[0m \u001b[0;34m=\u001b[0m \u001b[0mrandom\u001b[0m\u001b[0;34m.\u001b[0m\u001b[0mrandrange\u001b[0m\u001b[0;34m(\u001b[0m\u001b[0;36m0\u001b[0m\u001b[0;34m,\u001b[0m \u001b[0;36m2\u001b[0m\u001b[0;34m)\u001b[0m \u001b[0;31m# 0 - red, 1 - black\u001b[0m\u001b[0;34m\u001b[0m\u001b[0;34m\u001b[0m\u001b[0m\n\u001b[0m\u001b[1;32m      9\u001b[0m \u001b[0;34m\u001b[0m\u001b[0m\n\u001b[1;32m     10\u001b[0m         \u001b[0mresult\u001b[0m \u001b[0;34m=\u001b[0m \u001b[0mrandom\u001b[0m\u001b[0;34m.\u001b[0m\u001b[0mrandrange\u001b[0m\u001b[0;34m(\u001b[0m\u001b[0;36m0\u001b[0m\u001b[0;34m,\u001b[0m \u001b[0;36m37\u001b[0m\u001b[0;34m)\u001b[0m\u001b[0;34m\u001b[0m\u001b[0;34m\u001b[0m\u001b[0m\n",
      "\u001b[0;32m~/opt/anaconda3/lib/python3.8/random.py\u001b[0m in \u001b[0;36mrandrange\u001b[0;34m(self, start, stop, step, _int)\u001b[0m\n\u001b[1;32m    217\u001b[0m \u001b[0;34m\u001b[0m\u001b[0m\n\u001b[1;32m    218\u001b[0m         \u001b[0;31m# stop argument supplied.\u001b[0m\u001b[0;34m\u001b[0m\u001b[0;34m\u001b[0m\u001b[0;34m\u001b[0m\u001b[0m\n\u001b[0;32m--> 219\u001b[0;31m         \u001b[0mistop\u001b[0m \u001b[0;34m=\u001b[0m \u001b[0m_int\u001b[0m\u001b[0;34m(\u001b[0m\u001b[0mstop\u001b[0m\u001b[0;34m)\u001b[0m\u001b[0;34m\u001b[0m\u001b[0;34m\u001b[0m\u001b[0m\n\u001b[0m\u001b[1;32m    220\u001b[0m         \u001b[0;32mif\u001b[0m \u001b[0mistop\u001b[0m \u001b[0;34m!=\u001b[0m \u001b[0mstop\u001b[0m\u001b[0;34m:\u001b[0m\u001b[0;34m\u001b[0m\u001b[0;34m\u001b[0m\u001b[0m\n\u001b[1;32m    221\u001b[0m             \u001b[0;32mraise\u001b[0m \u001b[0mValueError\u001b[0m\u001b[0;34m(\u001b[0m\u001b[0;34m\"non-integer stop for randrange()\"\u001b[0m\u001b[0;34m)\u001b[0m\u001b[0;34m\u001b[0m\u001b[0;34m\u001b[0m\u001b[0m\n",
      "\u001b[0;31mKeyboardInterrupt\u001b[0m: "
     ]
    }
   ],
   "source": [
    "win = 0\n",
    "N = 10000\n",
    "for i in tqdm(range(N)):\n",
    "    money = 500\n",
    "    goal = 530\n",
    "\n",
    "    while money < goal and money >0:\n",
    "        bet = random.randrange(0, 2) # 0 - red, 1 - black\n",
    "\n",
    "        result = random.randrange(0, 37)\n",
    "        if result == 0:\n",
    "            money -= 1\n",
    "        elif result % 2 == bet: # red\n",
    "            money += 1\n",
    "        else:\n",
    "            money -= 1\n",
    "    \n",
    "    if money == goal:\n",
    "        win += 1\n",
    "    #print(money)\n",
    "print(win/N)"
   ]
  },
  {
   "cell_type": "code",
   "execution_count": 113,
   "metadata": {},
   "outputs": [
    {
     "name": "stdout",
     "output_type": "stream",
     "text": [
      "lose\n"
     ]
    }
   ],
   "source": [
    "stake = 500 #начальная сумма\n",
    "goal = 1000 #цель\n",
    "\n",
    "bets = 0 #количество ставок\n",
    "\n",
    "while stake > 0 and stake < goal:\n",
    "    if random.randrange(2) == 1:\n",
    "        stake += 1\n",
    "    else:\n",
    "        stake -= 1\n",
    "    \n",
    "    bets += 1\n",
    "\n",
    "if (stake == goal):\n",
    "    print('win')\n",
    "else:\n",
    "    print('lose')"
   ]
  },
  {
   "cell_type": "code",
   "execution_count": 114,
   "metadata": {},
   "outputs": [],
   "source": [
    "from tqdm.auto import tqdm"
   ]
  },
  {
   "cell_type": "code",
   "execution_count": 115,
   "metadata": {
    "scrolled": true
   },
   "outputs": [
    {
     "data": {
      "application/vnd.jupyter.widget-view+json": {
       "model_id": "bb1561ab94f645588101e8d90cee2f92",
       "version_major": 2,
       "version_minor": 0
      },
      "text/plain": [
       "  0%|          | 0/1000 [00:00<?, ?it/s]"
      ]
     },
     "metadata": {},
     "output_type": "display_data"
    },
    {
     "name": "stdout",
     "output_type": "stream",
     "text": [
      "0.503\n"
     ]
    }
   ],
   "source": [
    "stake = 500 #начальная сумма\n",
    "goal = 1000 #цель\n",
    "trial = 100000 #количество попыток\n",
    "\n",
    "bets = 0 #количество ставок\n",
    "wins = 0 #количесвто побед\n",
    "for i in tqdm(range(trial)):\n",
    "    cash = stake\n",
    "    while cash > 0 and cash < goal:\n",
    "        if random.randrange(2) == 1:\n",
    "            cash += 1\n",
    "        else:\n",
    "            cash -= 1\n",
    "\n",
    "        bets += 1\n",
    "\n",
    "    if (cash == goal):\n",
    "        wins += 1\n",
    "\n",
    "print(wins/trial)"
   ]
  },
  {
   "cell_type": "code",
   "execution_count": 117,
   "metadata": {},
   "outputs": [
    {
     "name": "stdout",
     "output_type": "stream",
     "text": [
      "246568.338\n"
     ]
    }
   ],
   "source": [
    "print(bets/trial)"
   ]
  },
  {
   "cell_type": "code",
   "execution_count": 120,
   "metadata": {},
   "outputs": [
    {
     "data": {
      "text/plain": [
       "250000"
      ]
     },
     "execution_count": 120,
     "metadata": {},
     "output_type": "execute_result"
    }
   ],
   "source": [
    "stake * (goal-stake)"
   ]
  },
  {
   "cell_type": "code",
   "execution_count": 121,
   "metadata": {
    "scrolled": false
   },
   "outputs": [
    {
     "data": {
      "application/vnd.jupyter.widget-view+json": {
       "model_id": "fb8512256237401193322134faef7a1c",
       "version_major": 2,
       "version_minor": 0
      },
      "text/plain": [
       "  0%|          | 0/1000 [00:00<?, ?it/s]"
      ]
     },
     "metadata": {},
     "output_type": "display_data"
    },
    {
     "name": "stdout",
     "output_type": "stream",
     "text": [
      "0.522\n"
     ]
    }
   ],
   "source": [
    "# в чём состоит удоство задавать всё через переменные значения?\n",
    "stake = 500 #начальная сумма\n",
    "goal = 1000 #цель\n",
    "trial = 1000 #количество попыток\n",
    "\n",
    "bets = 0 #количество ставок\n",
    "wins = 0 #количесвто побед\n",
    "proba_arr = []\n",
    "bets_arr = []\n",
    "for i in tqdm(range(trial)):\n",
    "    cash = stake\n",
    "    bets = 0\n",
    "    while cash > 0 and cash < goal:\n",
    "        if random.randrange(2) == 1:\n",
    "            cash += 1\n",
    "        else:\n",
    "            cash -= 1\n",
    "\n",
    "        bets += 1\n",
    "\n",
    "    if (cash == goal):\n",
    "        wins += 1\n",
    "    proba_arr.append(wins/(i + 1))\n",
    "    bets_arr.append(bets)\n",
    "print(wins/trial)"
   ]
  },
  {
   "cell_type": "code",
   "execution_count": null,
   "metadata": {},
   "outputs": [],
   "source": [
    "stake/goal"
   ]
  },
  {
   "cell_type": "code",
   "execution_count": 122,
   "metadata": {},
   "outputs": [],
   "source": [
    "import matplotlib.pyplot as plt"
   ]
  },
  {
   "cell_type": "code",
   "execution_count": 124,
   "metadata": {
    "scrolled": true
   },
   "outputs": [
    {
     "data": {
      "text/plain": [
       "[<matplotlib.lines.Line2D at 0x7ffcab3abf70>]"
      ]
     },
     "execution_count": 124,
     "metadata": {},
     "output_type": "execute_result"
    },
    {
     "data": {
      "image/png": "[encoded data removed]",
      "text/plain": [
       "<Figure size 432x288 with 1 Axes>"
      ]
     },
     "metadata": {
      "needs_background": "light"
     },
     "output_type": "display_data"
    }
   ],
   "source": [
    "plt.plot(proba_arr[:])\n",
    "plt.plot([1/2]*trial)"
   ]
  },
  {
   "cell_type": "code",
   "execution_count": 125,
   "metadata": {
    "scrolled": false
   },
   "outputs": [
    {
     "data": {
      "text/plain": [
       "240148.458"
      ]
     },
     "execution_count": 125,
     "metadata": {},
     "output_type": "execute_result"
    }
   ],
   "source": [
    "sum(bets_arr)/len(bets_arr) "
   ]
  },
  {
   "cell_type": "code",
   "execution_count": 126,
   "metadata": {},
   "outputs": [
    {
     "data": {
      "text/plain": [
       "250000"
      ]
     },
     "execution_count": 126,
     "metadata": {},
     "output_type": "execute_result"
    }
   ],
   "source": [
    "stake * (goal - stake)"
   ]
  },
  {
   "cell_type": "code",
   "execution_count": 131,
   "metadata": {},
   "outputs": [
    {
     "data": {
      "text/plain": [
       "[<matplotlib.lines.Line2D at 0x7ffc9904b460>]"
      ]
     },
     "execution_count": 131,
     "metadata": {},
     "output_type": "execute_result"
    },
    {
     "data": {
      "image/png": "[encoded data removed]",
      "text/plain": [
       "<Figure size 432x288 with 1 Axes>"
      ]
     },
     "metadata": {
      "needs_background": "light"
     },
     "output_type": "display_data"
    }
   ],
   "source": [
    "plt.plot(bets_arr)\n",
    "plt.plot([stake * (goal - stake)]*trial)"
   ]
  },
  {
   "cell_type": "code",
   "execution_count": 128,
   "metadata": {},
   "outputs": [
    {
     "ename": "NameError",
     "evalue": "name 'np' is not defined",
     "output_type": "error",
     "traceback": [
      "\u001b[0;31m---------------------------------------------------------------------------\u001b[0m",
      "\u001b[0;31mNameError\u001b[0m                                 Traceback (most recent call last)",
      "\u001b[0;32m<ipython-input-128-002a6784ff0f>\u001b[0m in \u001b[0;36m<module>\u001b[0;34m\u001b[0m\n\u001b[0;32m----> 1\u001b[0;31m \u001b[0mplt\u001b[0m\u001b[0;34m.\u001b[0m\u001b[0mplot\u001b[0m\u001b[0;34m(\u001b[0m\u001b[0mnp\u001b[0m\u001b[0;34m.\u001b[0m\u001b[0mlog1p\u001b[0m\u001b[0;34m(\u001b[0m\u001b[0mbets_arr\u001b[0m\u001b[0;34m)\u001b[0m\u001b[0;34m)\u001b[0m\u001b[0;34m\u001b[0m\u001b[0;34m\u001b[0m\u001b[0m\n\u001b[0m\u001b[1;32m      2\u001b[0m \u001b[0mplt\u001b[0m\u001b[0;34m.\u001b[0m\u001b[0mplot\u001b[0m\u001b[0;34m(\u001b[0m\u001b[0mnp\u001b[0m\u001b[0;34m.\u001b[0m\u001b[0mlog1p\u001b[0m\u001b[0;34m(\u001b[0m\u001b[0;34m[\u001b[0m\u001b[0mstake\u001b[0m \u001b[0;34m*\u001b[0m \u001b[0;34m(\u001b[0m\u001b[0mgoal\u001b[0m \u001b[0;34m-\u001b[0m \u001b[0mstake\u001b[0m\u001b[0;34m)\u001b[0m\u001b[0;34m]\u001b[0m\u001b[0;34m*\u001b[0m\u001b[0mtrial\u001b[0m\u001b[0;34m)\u001b[0m\u001b[0;34m)\u001b[0m\u001b[0;34m\u001b[0m\u001b[0;34m\u001b[0m\u001b[0m\n",
      "\u001b[0;31mNameError\u001b[0m: name 'np' is not defined"
     ]
    }
   ],
   "source": [
    "plt.plot(np.log1p(bets_arr))\n",
    "plt.plot(np.log1p([stake * (goal - stake)]*trial))"
   ]
  },
  {
   "cell_type": "markdown",
   "metadata": {},
   "source": [
    "- Действительно ли модель точно отражает происходящее в жизни? \n",
    "- Сколько попыток нужно для получения точного ответа?\n",
    "- Каковы вычислительные пределы такой имитации?\n",
    "\n",
    "Моделирование широко используется в экономике, науке и технике, а вопросы такого рода очень важны для любой модели.\n",
    "\n",
    "В случае нашей задачи мы проверяли, что:\n",
    "- вероятность успеха - соотношение начальной суммы к цели\n",
    "- ожидаемое количество ставок - произведение начальной суммы и желаймой суммы выигрыша(выигрыш - желаемая сумма минус начальня)"
   ]
  },
  {
   "cell_type": "markdown",
   "metadata": {},
   "source": [
    "Практическое значение моделирования в том, что оно может предложить ответы на вопросы, слишком трудные для аналитического решения."
   ]
  },
  {
   "cell_type": "markdown",
   "metadata": {},
   "source": [
    "<b>?</b> Сколько денег игрок может ожидать унести домой в случае, если он решает ограничить число ставок. (Допустим игрок максимум успеет поставить 500 ставок, начальная сумма 100)"
   ]
  },
  {
   "cell_type": "markdown",
   "metadata": {},
   "source": [
    "## Неполный цикл"
   ]
  },
  {
   "cell_type": "markdown",
   "metadata": {},
   "source": [
    "Иногда структура управления потоком for или while не очень точно соответствует необходимому циклу.\n",
    "- допустим вы хотите проверять условие не в начале цикла, а в середине т. е. сначала сделать некоторые операции, а затем проверить выполненение условий (необходимо, когда для проверки выполнения условий нужно сначала выполнить некоторые вычисления)"
   ]
  },
  {
   "cell_type": "code",
   "execution_count": null,
   "metadata": {},
   "outputs": [],
   "source": [
    "# пример: генерировать точки из квадрата 2 на 2 до тех пор пока они попадают в круг,\n",
    "# центр, которого в центре квадрата и радиус равен 1."
   ]
  },
  {
   "cell_type": "code",
   "execution_count": 157,
   "metadata": {},
   "outputs": [
    {
     "data": {
      "text/plain": [
       "0.5464868843811322"
      ]
     },
     "execution_count": 157,
     "metadata": {},
     "output_type": "execute_result"
    }
   ],
   "source": [
    "random.random() #shift + tab чтобы посмотреть описание функции\n",
    "# shift + enter - чтобы выполнить код в ячейке и перейти к следующей\n",
    "# ctr + enter - чтобы выполнить код в ячейке и остаться"
   ]
  },
  {
   "cell_type": "code",
   "execution_count": 160,
   "metadata": {},
   "outputs": [
    {
     "data": {
      "text/plain": [
       "1.1066216511348088"
      ]
     },
     "execution_count": 160,
     "metadata": {},
     "output_type": "execute_result"
    }
   ],
   "source": [
    "2 * random.random()"
   ]
  },
  {
   "cell_type": "code",
   "execution_count": 165,
   "metadata": {
    "scrolled": false
   },
   "outputs": [
    {
     "name": "stdout",
     "output_type": "stream",
     "text": [
      "0.1774780350036711 1.3306000827777227\n",
      "0.20356820650911311 1.0666990840492385\n",
      "1.451092090692918 1.4622794276433615\n",
      "1.4752119085326914 0.93704511663356\n",
      "0.5951119538122569 1.2825987885688295\n",
      "1.704026188898942 1.3765443502936885\n",
      "0.9304092319259414 0.7776313881374806\n",
      "0.9797141772871691 1.7773994605713184\n",
      "1.5926786690418284 0.8694509352534359\n",
      "1.6021348983657748 1.7879671100513652\n",
      "0.4831008159405672 0.7455260326617861\n",
      "0.4141628265017201 1.1306611446738168\n",
      "0.23445956563565318 1.5737878797761191\n"
     ]
    }
   ],
   "source": [
    "while True: # это вечный цикл, мы не планируем останавливаться\n",
    "    # пусть квадрат - [0, 2] x [0, 2]\n",
    "    # тогда его центр (1, 1)\n",
    "    # генерируем два случайных числа от 0 до 2\n",
    "    x = 2 * random.random()\n",
    "    y = 2 * random.random()\n",
    "    if ((x - 1) ** 2 + (y - 1) ** 2) > 1:\n",
    "        break\n",
    "    print(x, y)"
   ]
  },
  {
   "cell_type": "code",
   "execution_count": 166,
   "metadata": {},
   "outputs": [
    {
     "name": "stdout",
     "output_type": "stream",
     "text": [
      "1.3611342051313335 1.5086710386875635\n",
      "1.4511846883021435 1.6969551344888683\n",
      "1.8477644446743915 0.828744080849418\n",
      "1.4132359560692682 0.7031282670286596\n",
      "1.3912811648082848 1.7918906059752477\n",
      "0.7657456528777533 0.8991903117807982\n",
      "1.2839235719805433 1.6921480571393572\n",
      "1.7823258593417097 0.4766086355536212\n",
      "1.1362331945685011 0.960476191074122\n",
      "1.174423823031973 0.6595891131303264\n"
     ]
    }
   ],
   "source": [
    "X = []\n",
    "Y = []\n",
    "while True: # это вечный цикл, мы не планируем останавливаться\n",
    "    # пусть квадрат - [0, 2] x [0, 2]\n",
    "    # тогда его центр (1, 1)\n",
    "    # генерируем два случайных числа от 0 до 2\n",
    "    x = 2 * random.random()\n",
    "    y = 2 * random.random()\n",
    "    if ((x - 1) ** 2 + (y - 1) ** 2) >= 1:\n",
    "        break\n",
    "    X.append(x)\n",
    "    Y.append(y)\n",
    "    print(x, y)"
   ]
  },
  {
   "cell_type": "code",
   "execution_count": 167,
   "metadata": {
    "scrolled": false
   },
   "outputs": [
    {
     "data": {
      "text/plain": [
       "<matplotlib.collections.PathCollection at 0x7ffca9ef27f0>"
      ]
     },
     "execution_count": 167,
     "metadata": {},
     "output_type": "execute_result"
    },
    {
     "data": {
      "image/png": "[encoded data removed]",
      "text/plain": [
       "<Figure size 432x288 with 1 Axes>"
      ]
     },
     "metadata": {
      "needs_background": "light"
     },
     "output_type": "display_data"
    },
    {
     "data": {
      "text/plain": [
       "<Figure size 800x800 with 0 Axes>"
      ]
     },
     "metadata": {},
     "output_type": "display_data"
    }
   ],
   "source": [
    "fig,ax = plt.subplots(1)\n",
    "plt.figure(figsize=(4,4), dpi = 200)\n",
    "circle = plt.Circle((1,1),1, fill = False)\n",
    "ax.add_patch(circle)\n",
    "ax.scatter(X, Y)\n",
    "ax.scatter([1], [1], color = 'red')\n",
    "ax.scatter([x], [y], color = 'g')"
   ]
  },
  {
   "cell_type": "code",
   "execution_count": 169,
   "metadata": {},
   "outputs": [
    {
     "name": "stdout",
     "output_type": "stream",
     "text": [
      "10\n",
      "8\n",
      "6\n",
      "4\n",
      "2\n"
     ]
    }
   ],
   "source": [
    "for i in range(10, 1, -2):\n",
    "    print(i)"
   ]
  },
  {
   "cell_type": "markdown",
   "metadata": {},
   "source": [
    "! Когда реализуете цикл важно обдумать следующую ситуацию: что, если условие продолжения цикла будет всегда удовлетворяться?\n",
    "\n",
    "Ситуации две:\n",
    "- либо что-то бесконечно делается и мы это наблюдаем \n",
    "- либо кажется, что программа ничего не делает\n",
    "\n",
    "Можно попробовать проверить, что условие выхода всегда срабатывает, но это сделать бывает затруднительно. Один из способо поиска такой ошибки - трассировка ( на каждой операции цикла что-то выводить в лог или просто в окно вывода )"
   ]
  },
  {
   "cell_type": "markdown",
   "metadata": {},
   "source": [
    "Один из фактов фундаметальной информатики состоит в том, что невозможно написать алгоритм, который будет всегда обнаруживать бесконечные циклы и сообщать нам. "
   ]
  },
  {
   "cell_type": "markdown",
   "metadata": {},
   "source": [
    "Все программисты знают, что программы часто не работают сразу, как планировалось вначале, поэтому в программе придется разобраться и выяснить, что нужно делать. Сначала используйте явные трассировки для проверки своего понимания и ожиданий. По мере приобретения опыта в создании собственных циклов вы начнете думать в терминах того, что могла бы дать трассировка. Задайте себе следующие виды вопросов: каковы будут значения переменных после первой итерации цикла? После второй? Если ли у этой программы способ попасть в вечный цикл?"
   ]
  },
  {
   "cell_type": "markdown",
   "metadata": {},
   "source": [
    "1. Что будет если пропустить двоеточие в операторах if, while, for?"
   ]
  },
  {
   "cell_type": "code",
   "execution_count": 1,
   "metadata": {},
   "outputs": [
    {
     "ename": "SyntaxError",
     "evalue": "invalid syntax (<ipython-input-1-8ea225e4062b>, line 3)",
     "output_type": "error",
     "traceback": [
      "\u001b[1;36m  File \u001b[1;32m\"<ipython-input-1-8ea225e4062b>\"\u001b[1;36m, line \u001b[1;32m3\u001b[0m\n\u001b[1;33m    if kek == True\u001b[0m\n\u001b[1;37m                  ^\u001b[0m\n\u001b[1;31mSyntaxError\u001b[0m\u001b[1;31m:\u001b[0m invalid syntax\n"
     ]
    }
   ],
   "source": [
    "# решение\n",
    "kek = True\n",
    "if kek == True\n",
    "    print('KEK')\n",
    "\n"
   ]
  },
  {
   "cell_type": "code",
   "execution_count": 2,
   "metadata": {},
   "outputs": [
    {
     "ename": "SyntaxError",
     "evalue": "invalid syntax (<ipython-input-2-59e615ce2587>, line 1)",
     "output_type": "error",
     "traceback": [
      "\u001b[1;36m  File \u001b[1;32m\"<ipython-input-2-59e615ce2587>\"\u001b[1;36m, line \u001b[1;32m1\u001b[0m\n\u001b[1;33m    while kek == False\u001b[0m\n\u001b[1;37m                      ^\u001b[0m\n\u001b[1;31mSyntaxError\u001b[0m\u001b[1;31m:\u001b[0m invalid syntax\n"
     ]
    }
   ],
   "source": [
    "while kek == False\n",
    "    print('KEK')"
   ]
  },
  {
   "cell_type": "code",
   "execution_count": 3,
   "metadata": {},
   "outputs": [
    {
     "ename": "SyntaxError",
     "evalue": "invalid syntax (<ipython-input-3-deeede84cc22>, line 1)",
     "output_type": "error",
     "traceback": [
      "\u001b[1;36m  File \u001b[1;32m\"<ipython-input-3-deeede84cc22>\"\u001b[1;36m, line \u001b[1;32m1\u001b[0m\n\u001b[1;33m    for kek in range(10)\u001b[0m\n\u001b[1;37m                        ^\u001b[0m\n\u001b[1;31mSyntaxError\u001b[0m\u001b[1;31m:\u001b[0m invalid syntax\n"
     ]
    }
   ],
   "source": [
    "for kek in range(10)\n",
    "    print('KEK')"
   ]
  },
  {
   "cell_type": "markdown",
   "metadata": {},
   "source": [
    "У каждого оператора в блоке должен быть одинаковый отступ, если это не так то во время компиляции произойдет ошикба IndentationError. Обычно программисты Python используют четыре пробела.  "
   ]
  },
  {
   "cell_type": "code",
   "execution_count": 4,
   "metadata": {},
   "outputs": [
    {
     "ename": "IndentationError",
     "evalue": "unexpected indent (<ipython-input-4-9099488a6062>, line 4)",
     "output_type": "error",
     "traceback": [
      "\u001b[1;36m  File \u001b[1;32m\"<ipython-input-4-9099488a6062>\"\u001b[1;36m, line \u001b[1;32m4\u001b[0m\n\u001b[1;33m    print(2)# 5 пробелов\u001b[0m\n\u001b[1;37m    ^\u001b[0m\n\u001b[1;31mIndentationError\u001b[0m\u001b[1;31m:\u001b[0m unexpected indent\n"
     ]
    }
   ],
   "source": [
    "# пример\n",
    "if 5 > 4:\n",
    "    print(1) # 4 пробела\n",
    "     print(2)# 5 пробелов"
   ]
  },
  {
   "cell_type": "code",
   "execution_count": 5,
   "metadata": {},
   "outputs": [
    {
     "name": "stdout",
     "output_type": "stream",
     "text": [
      "1\n",
      "2\n"
     ]
    }
   ],
   "source": [
    "# пример\n",
    "if 5 > 4:\n",
    "     print(1)# 5 пробелов\n",
    "     print(2)# 5 пробелов, теперь число пробелов одинаковое все работает"
   ]
  },
  {
   "cell_type": "markdown",
   "metadata": {},
   "source": [
    "Символы табуляции для пробелов использовать нельзя, во многих редакторах при нажатии <Tab> будут вставляться 4 пробела."
   ]
  },
  {
   "cell_type": "markdown",
   "metadata": {},
   "source": [
    "Чтобы написать разбить длинную строку кода на несколько нужно использова \\"
   ]
  },
  {
   "cell_type": "code",
   "execution_count": 6,
   "metadata": {},
   "outputs": [],
   "source": [
    "a = 1 + 2 + 3 + 4 + 1 + 2 + 3 + 4 + 1 + 2 + 3 + 4 + 1 + 2 + 3 + 4 + 1 + 2 + 3 + 4 + 1 + 2 + 3 + 4 "
   ]
  },
  {
   "cell_type": "code",
   "execution_count": 7,
   "metadata": {},
   "outputs": [
    {
     "ename": "SyntaxError",
     "evalue": "invalid syntax (<ipython-input-7-f712731c1ce7>, line 1)",
     "output_type": "error",
     "traceback": [
      "\u001b[1;36m  File \u001b[1;32m\"<ipython-input-7-f712731c1ce7>\"\u001b[1;36m, line \u001b[1;32m1\u001b[0m\n\u001b[1;33m    a = 1 + 2 + 3 + 4 + # так получим ошибку\u001b[0m\n\u001b[1;37m                                            ^\u001b[0m\n\u001b[1;31mSyntaxError\u001b[0m\u001b[1;31m:\u001b[0m invalid syntax\n"
     ]
    }
   ],
   "source": [
    "a = 1 + 2 + 3 + 4 + # так получим ошибку\n",
    "1 + 2 + 3 + 4 +\n",
    "1 + 2 + 3 + 4 +\n",
    "1 + 2 + 3 + 4 +\n",
    "1 + 2 + 3 + 4 +\n",
    "1 + 2 + 3 + 4 "
   ]
  },
  {
   "cell_type": "code",
   "execution_count": 8,
   "metadata": {},
   "outputs": [],
   "source": [
    "a = 1 + 2 + 3 + 4  + \\\n",
    "    1 + 2 + 3 + 4  + \\\n",
    "    1 + 2 + 3 + 4  + \\\n",
    "    1 + 2 + 3 + 4  + \\\n",
    "    1 + 2 + 3 + 4  + \\\n",
    "    1 + 2 + 3 + 4 "
   ]
  },
  {
   "cell_type": "code",
   "execution_count": 10,
   "metadata": {},
   "outputs": [
    {
     "name": "stdout",
     "output_type": "stream",
     "text": [
      "10\n"
     ]
    }
   ],
   "source": [
    "# способ чтения аргументов из командой строки\n",
    "a = input()"
   ]
  },
  {
   "cell_type": "code",
   "execution_count": 11,
   "metadata": {},
   "outputs": [
    {
     "data": {
      "text/plain": [
       "'10'"
      ]
     },
     "execution_count": 11,
     "metadata": {},
     "output_type": "execute_result"
    }
   ],
   "source": [
    "a"
   ]
  },
  {
   "cell_type": "code",
   "execution_count": 12,
   "metadata": {},
   "outputs": [
    {
     "data": {
      "text/plain": [
       "str"
      ]
     },
     "execution_count": 12,
     "metadata": {},
     "output_type": "execute_result"
    }
   ],
   "source": [
    "type(a)"
   ]
  },
  {
   "cell_type": "markdown",
   "metadata": {},
   "source": [
    "Если хотим преобразовать строку в целое чилсо использует оператор int('5'), если в действительное, то float('1.2')"
   ]
  },
  {
   "cell_type": "code",
   "execution_count": 13,
   "metadata": {},
   "outputs": [
    {
     "data": {
      "text/plain": [
       "5"
      ]
     },
     "execution_count": 13,
     "metadata": {},
     "output_type": "execute_result"
    }
   ],
   "source": [
    "int('5')"
   ]
  },
  {
   "cell_type": "code",
   "execution_count": 14,
   "metadata": {},
   "outputs": [
    {
     "data": {
      "text/plain": [
       "int"
      ]
     },
     "execution_count": 14,
     "metadata": {},
     "output_type": "execute_result"
    }
   ],
   "source": [
    "type(int('5'))"
   ]
  },
  {
   "cell_type": "code",
   "execution_count": 15,
   "metadata": {},
   "outputs": [
    {
     "data": {
      "text/plain": [
       "1.2"
      ]
     },
     "execution_count": 15,
     "metadata": {},
     "output_type": "execute_result"
    }
   ],
   "source": [
    "float('1.2')"
   ]
  },
  {
   "cell_type": "code",
   "execution_count": 16,
   "metadata": {},
   "outputs": [
    {
     "data": {
      "text/plain": [
       "float"
      ]
     },
     "execution_count": 16,
     "metadata": {},
     "output_type": "execute_result"
    }
   ],
   "source": [
    "type(float('1.2'))"
   ]
  },
  {
   "cell_type": "code",
   "execution_count": 17,
   "metadata": {},
   "outputs": [
    {
     "ename": "ValueError",
     "evalue": "could not convert string to float: 'stroka'",
     "output_type": "error",
     "traceback": [
      "\u001b[1;31m---------------------------------------------------------------------------\u001b[0m",
      "\u001b[1;31mValueError\u001b[0m                                Traceback (most recent call last)",
      "\u001b[1;32m<ipython-input-17-364796f62a95>\u001b[0m in \u001b[0;36m<module>\u001b[1;34m\u001b[0m\n\u001b[1;32m----> 1\u001b[1;33m \u001b[0mfloat\u001b[0m\u001b[1;33m(\u001b[0m\u001b[1;34m'stroka'\u001b[0m\u001b[1;33m)\u001b[0m\u001b[1;33m\u001b[0m\u001b[1;33m\u001b[0m\u001b[0m\n\u001b[0m",
      "\u001b[1;31mValueError\u001b[0m: could not convert string to float: 'stroka'"
     ]
    }
   ],
   "source": [
    "float('stroka')"
   ]
  },
  {
   "cell_type": "markdown",
   "metadata": {},
   "source": [
    "2. Составьте программу, получающую в командной строке три целочисленных аргумента и выводящую слова 'equal', если все три равны и 'not equal' в противном случае"
   ]
  },
  {
   "cell_type": "code",
   "execution_count": 20,
   "metadata": {},
   "outputs": [
    {
     "name": "stdout",
     "output_type": "stream",
     "text": [
      "1 1 1\n",
      "equal\n"
     ]
    }
   ],
   "source": [
    "# решение\n",
    "# шаг 1: реализуйте ввод трех целых чисел использую методы  input() и int()\n",
    "var1, var2, var3 = map(int, input().split(' '))\n",
    "# шаг 2: проверьте равны ли три числа между собой и выведе соотвествующий ответ\n",
    "if var1 == var2 and var2 == var3:\n",
    "    print('equal')\n",
    "else:\n",
    "    print('not equal')"
   ]
  },
  {
   "cell_type": "markdown",
   "metadata": {},
   "source": [
    "3. Составьте фрагмент кода, получающий два аргумента командной строки типа float и выводящий True, если они находятся в диапозоне от 0.0 до 1.0 иначе False"
   ]
  },
  {
   "cell_type": "code",
   "execution_count": 25,
   "metadata": {},
   "outputs": [
    {
     "name": "stdout",
     "output_type": "stream",
     "text": [
      "0.5 0.7\n",
      "True\n"
     ]
    }
   ],
   "source": [
    "# решение, чем-то похоже на решение пред задачи\n",
    "var1, var2 = map(float, input().split(' '))\n",
    "print((var1 >= 0 and var1 <= 1) and (var2 >= 0 and var2 <= 1))"
   ]
  },
  {
   "cell_type": "markdown",
   "metadata": {},
   "source": [
    "4. Что выведет каждый из следующих фрагментов кода <br>\n",
    "a. <code> \n",
    "    j = 0\n",
    "    for i in range(j, 10):\n",
    "        j += 1 \n",
    "    print(j)\n",
    "</code> <br>\n",
    "_____________\n",
    "b. <code> \n",
    "    j = 0\n",
    "    for i in range(10):\n",
    "        j += j\n",
    "    print(j)\n",
    "</code>\n",
    "___________\n",
    "c. <code>\n",
    "    for j in range(10):\n",
    "        j += j\n",
    "    print(j)\n",
    "   </code>"
   ]
  },
  {
   "cell_type": "markdown",
   "metadata": {},
   "source": [
    "решение: запишите ответы для каждого фрагмента кода\n",
    "подсказка: можете запускить данный код с трассировкой для каждой итерации цикла, чтобы разобраться что происходит <br>\n",
    "a = 10<br>\n",
    "b = 0<br>\n",
    "c = 18<br>"
   ]
  },
  {
   "cell_type": "markdown",
   "metadata": {},
   "source": [
    "5. В отличие от гармонического ряда, сумма последовательности\n",
    "$$ \\frac{1}{1^2} +\\frac{1}{2^2} + ... + \\frac{1}{n^2} $$\n",
    "сходится к константе при $n\\to \\infty$. Эта константа $\\frac{\\pi^2}{6}$ т. е.\n",
    "$$ \\frac{1}{1^2} +\\frac{1}{2^2} + ... + \\frac{1}{n^2} \\to \\frac{\\pi^2}{6}, \\text{ при } n \\to \\infty $$\n",
    "Напишите цикл, который вычисляет эту сумму при заданном $n$, число $n$ вводится. Сумма сохраняется в переменную total типа float, которая инициализируется 0.0.\n",
    "Насколько сумма при n = 1000 будет отличаться от $\\frac{\\pi^2}{6}$?"
   ]
  },
  {
   "cell_type": "code",
   "execution_count": 26,
   "metadata": {},
   "outputs": [],
   "source": [
    "# чтобы получить число pi\n",
    "from numpy import pi # импортируем константу из библиотеки numpy"
   ]
  },
  {
   "cell_type": "code",
   "execution_count": 27,
   "metadata": {},
   "outputs": [
    {
     "data": {
      "text/plain": [
       "3.141592653589793"
      ]
     },
     "execution_count": 27,
     "metadata": {},
     "output_type": "execute_result"
    }
   ],
   "source": [
    "pi # пи с некоторой точностью"
   ]
  },
  {
   "cell_type": "code",
   "execution_count": 31,
   "metadata": {},
   "outputs": [
    {
     "name": "stdout",
     "output_type": "stream",
     "text": [
      "1000\n",
      "1.6439345666815615\n",
      "0.0009995001666649461\n"
     ]
    }
   ],
   "source": [
    "# решение\n",
    "ans = 0.0\n",
    "n = int(input())\n",
    "for i in range(1, n+1):\n",
    "    ans += 1/(i**2)\n",
    "\n",
    "if n != 1000:\n",
    "    print(ans)\n",
    "else:\n",
    "    print(ans)\n",
    "    print(pi**2/6 - ans)"
   ]
  },
  {
   "cell_type": "markdown",
   "metadata": {},
   "source": [
    "6. Такси Рамануджана. С. Рамануджан - индийский математик, славившийся своей интуицией в области чисел. Когда английский математик Г. Х. Харди навестил его однажды в больнице, он обмолвился, что номеров такси на котором он приехал, было 1729, такое скучное и заурядное число. На что Рамануджан ответил: \"Нет, нет! Это очень интересно число. Это наименьшее число, выражаемое как сумма двух кубов двумя разными способами.\" Проверьте это заявление, создав программу, получающую $n$  в аргументе командной строки и выводящую все целые числа, меньше или равные  $n$, которые могут быть выражены как сумма двух кубов двумя разными способами. Другими словами, найдите различные положительные числа $a,b,c,d$, удовлетворяющие условию \n",
    "$$ a^3 + b^3 = c^3 + d^3 $$\n",
    "Используйте четыре вложенных цикла for."
   ]
  },
  {
   "cell_type": "code",
   "execution_count": null,
   "metadata": {},
   "outputs": [
    {
     "name": "stdout",
     "output_type": "stream",
     "text": [
      "2000\n"
     ]
    }
   ],
   "source": [
    "# решение\n",
    "n = int(input())\n",
    "breakFlag = False\n",
    "\n",
    "for a in range(1, n):\n",
    "    if breakFlag:\n",
    "        break\n",
    "    for b in range(1, n):\n",
    "        s = a**3 + b**3\n",
    "        if s > n:\n",
    "            breakFlag = True\n",
    "            break\n",
    "        if a != b:\n",
    "            for c in range(1, n):\n",
    "                if a != c and b != c:\n",
    "                    for d in range(1, n):\n",
    "                        if (s == c**3 + d**2) and d != a and d != b and d != c:\n",
    "                            print('a, b, c, d =', a, b, c, d)\n",
    "                            print('n = ', s)\n",
    "                    "
   ]
  },
  {
   "cell_type": "markdown",
   "metadata": {},
   "source": [
    "Мини тест"
   ]
  },
  {
   "cell_type": "markdown",
   "metadata": {},
   "source": [
    "# Массивы (списки)"
   ]
  },
  {
   "cell_type": "markdown",
   "metadata": {},
   "source": [
    "# Функции"
   ]
  },
  {
   "cell_type": "markdown",
   "metadata": {},
   "source": [
    "# Реализация функции скалярного произведения"
   ]
  },
  {
   "cell_type": "markdown",
   "metadata": {},
   "source": [
    "# Реализация метода обучения персептрона"
   ]
  },
  {
   "cell_type": "markdown",
   "metadata": {},
   "source": [
    "# Тест"
   ]
  },
  {
   "cell_type": "code",
   "execution_count": null,
   "metadata": {},
   "outputs": [],
   "source": []
  }
 ],
 "metadata": {
  "kernelspec": {
   "display_name": "Python 3",
   "language": "python",
   "name": "python3"
  },
  "language_info": {
   "codemirror_mode": {
    "name": "ipython",
    "version": 3
   },
   "file_extension": ".py",
   "mimetype": "text/x-python",
   "name": "python",
   "nbconvert_exporter": "python",
   "pygments_lexer": "ipython3",
   "version": "3.7.4"
  }
 },
 "nbformat": 4,
 "nbformat_minor": 5
}
