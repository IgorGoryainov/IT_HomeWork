{
 "cells": [
  {
   "cell_type": "code",
   "execution_count": 1,
   "metadata": {},
   "outputs": [
    {
     "name": "stdout",
     "output_type": "stream",
     "text": [
      "0.009908\n"
     ]
    }
   ],
   "source": [
    "import random\n",
    "queue = [50]*100 + [100] * 100\n",
    "n = 1000000\n",
    "successfulCounter = 0\n",
    "for i in range(n):\n",
    "    peopleCounter = 0\n",
    "    random.shuffle(queue)\n",
    "    change = 0\n",
    "    for j in range(200):\n",
    "        if queue[j] == 50:\n",
    "            change += 1\n",
    "        elif queue[j] == 100:\n",
    "            change -= 1\n",
    "        if change < 0:\n",
    "            break\n",
    "        else:\n",
    "            peopleCounter += 1\n",
    "    if peopleCounter == 200:\n",
    "        successfulCounter += 1\n",
    "print(successfulCounter/n)"
   ]
  },
  {
   "cell_type": "code",
   "execution_count": null,
   "metadata": {},
   "outputs": [],
   "source": []
  }
 ],
 "metadata": {
  "kernelspec": {
   "display_name": "Python 3",
   "language": "python",
   "name": "python3"
  },
  "language_info": {
   "codemirror_mode": {
    "name": "ipython",
    "version": 3
   },
   "file_extension": ".py",
   "mimetype": "text/x-python",
   "name": "python",
   "nbconvert_exporter": "python",
   "pygments_lexer": "ipython3",
   "version": "3.7.4"
  }
 },
 "nbformat": 4,
 "nbformat_minor": 2
}
