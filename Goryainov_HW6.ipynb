{
 "cells": [
  {
   "cell_type": "markdown",
   "metadata": {},
   "source": [
    "- Создайте класс Point(x, y) x, y - координаты точки на плоскости.\n",
    "- Реализуйте два метода a.distanceTo(b) - евкливодов расстояние между $a$ и $b$\n",
    "- Переопределите __str__ так чтобы при печати экземпляра выводилось (x, y) - то есть координаты точки"
   ]
  },
  {
   "cell_type": "code",
   "execution_count": 13,
   "metadata": {},
   "outputs": [],
   "source": [
    "class Point:\n",
    "    \n",
    "    __neighborsNumber = 0\n",
    "    \n",
    "    def __init__(self, x, y):\n",
    "        self.x = x\n",
    "        self.y = y\n",
    "        \n",
    "    def distanceTo(self, pointTo):\n",
    "        return pow(pow(self.x - pointTo.x, 2) + pow(self.y - pointTo.y, 2), 1/2) \n",
    "    \n",
    "    def __str__(self):\n",
    "        return \"(\" + str(self.x) + \", \" + str(self.y) +  \")\"\n",
    "    \n",
    "    def calculateNN(self, pointsList):\n",
    "        distanceList = list(map(self.distanceTo, pointsList))\n",
    "        radiusList = list(map(lambda x: x < 5, distanceList))\n",
    "        self.__neighborsNumber = radiusList.count(1)-1\n",
    "        return self.__neighborsNumber"
   ]
  },
  {
   "cell_type": "code",
   "execution_count": 14,
   "metadata": {},
   "outputs": [
    {
     "name": "stdout",
     "output_type": "stream",
     "text": [
      "(1, 1)\n"
     ]
    }
   ],
   "source": [
    "a = Point(1, 1)\n",
    "b = Point(2, 2)\n",
    "a.distanceTo(b)\n",
    "print(a)"
   ]
  },
  {
   "cell_type": "markdown",
   "metadata": {},
   "source": [
    "- После того как Вы создадите класс запустите следующий код"
   ]
  },
  {
   "cell_type": "code",
   "execution_count": 15,
   "metadata": {},
   "outputs": [],
   "source": [
    "import random\n",
    "random.seed(42)\n",
    "points = list()\n",
    "for i in range(1000):\n",
    "    x = random.randint(1, 100)\n",
    "    y = random.randint(1, 100)\n",
    "    points.append(Point(x, y))"
   ]
  },
  {
   "cell_type": "markdown",
   "metadata": {},
   "source": [
    "- Напишите метод, который определит у какой из заданых точек больше всего соседей в радиусе 5.\n",
    "- Если таких точек несколько, то тогда выведите точку с наименьше суммой координат, если таких точек несколько, то выведите точку с наименьше абсциссой."
   ]
  },
  {
   "cell_type": "code",
   "execution_count": 16,
   "metadata": {},
   "outputs": [
    {
     "data": {
      "text/plain": [
       "66"
      ]
     },
     "execution_count": 16,
     "metadata": {},
     "output_type": "execute_result"
    }
   ],
   "source": [
    "nnList = list(map(lambda Point: Point.calculateNN(points), points))\n",
    "\n",
    "def getNeedPoint(nnList, points):\n",
    "    maxNN = 0\n",
    "    maxCount = []\n",
    "    minCordSum = 10009\n",
    "    minCordCount = []\n",
    "    minAbs = 101\n",
    "    minAbsIndex = -1\n",
    "    for i in range(len(nnList)):\n",
    "        if nnList[i] > maxNN:\n",
    "            maxNN = nnList[i]\n",
    "            maxCount = [i]\n",
    "        elif nnList[i] == maxNN:\n",
    "            maxCount.append(i)\n",
    "    if len(maxCount) > 1:\n",
    "        for i in range(len(maxCount)):\n",
    "            cordSum = points[maxCount[i]].x + points[maxCount[i]].y\n",
    "            if cordSum < minCordSum:\n",
    "                minCordSum = cordSum\n",
    "                minCordCount = [maxCount[i]]\n",
    "            elif cordSum == minCordSum:\n",
    "                minCordCount.append(maxCount[i])\n",
    "        if len(minCordCount) > 1:\n",
    "            for i in range(len(minCordCount)):\n",
    "                if points[minCordCount[i]].x < minAbs:\n",
    "                    minAbsIndex = minCordCount[i]\n",
    "            return minAbsIndex\n",
    "        else:\n",
    "            return minCordCount[0]\n",
    "\n",
    "getNeedPoint(nnList, points)\n",
    "    \n",
    "    "
   ]
  },
  {
   "cell_type": "code",
   "execution_count": null,
   "metadata": {},
   "outputs": [],
   "source": []
  },
  {
   "cell_type": "code",
   "execution_count": null,
   "metadata": {},
   "outputs": [],
   "source": []
  }
 ],
 "metadata": {
  "kernelspec": {
   "display_name": "Python 3",
   "language": "python",
   "name": "python3"
  },
  "language_info": {
   "codemirror_mode": {
    "name": "ipython",
    "version": 3
   },
   "file_extension": ".py",
   "mimetype": "text/x-python",
   "name": "python",
   "nbconvert_exporter": "python",
   "pygments_lexer": "ipython3",
   "version": "3.7.4"
  }
 },
 "nbformat": 4,
 "nbformat_minor": 4
}
